{
 "cells": [
  {
   "cell_type": "code",
   "execution_count": 1,
   "id": "82313ae1",
   "metadata": {},
   "outputs": [],
   "source": [
    "import numpy as np\n",
    "import imutils\n",
    "import time\n",
    "import cv2\n",
    "import os\n",
    "from playsound import playsound\n",
    "import threading"
   ]
  },
  {
   "cell_type": "code",
   "execution_count": 2,
   "id": "a671d962",
   "metadata": {},
   "outputs": [],
   "source": [
    "As = 0"
   ]
  },
  {
   "cell_type": "code",
   "execution_count": 3,
   "id": "72007618",
   "metadata": {},
   "outputs": [],
   "source": [
    "corner = 0;\n",
    "\n",
    "# 1 = Right\n",
    "# 2 = Left"
   ]
  },
  {
   "cell_type": "code",
   "execution_count": 4,
   "id": "377943ca",
   "metadata": {},
   "outputs": [],
   "source": [
    "def turn_right():\n",
    "    playsound('turn_right.mpeg')"
   ]
  },
  {
   "cell_type": "code",
   "execution_count": 5,
   "id": "0ef53170",
   "metadata": {},
   "outputs": [],
   "source": [
    "def turn_left():\n",
    "    playsound('turn_left.mpeg')"
   ]
  },
  {
   "cell_type": "code",
   "execution_count": 6,
   "id": "07cc4677",
   "metadata": {},
   "outputs": [],
   "source": [
    "def loop():\n",
    "    while(not As):\n",
    "        if corner == 0:\n",
    "            pass\n",
    "        if corner == 1:\n",
    "            turn_right()\n",
    "            time.sleep(3)\n",
    "        if corner == 2:\n",
    "            turn_left()\n",
    "            time.sleep(3)"
   ]
  },
  {
   "cell_type": "code",
   "execution_count": 7,
   "id": "cf4cfbb1",
   "metadata": {},
   "outputs": [],
   "source": [
    "t1 = threading.Thread(target=loop, args=())"
   ]
  },
  {
   "cell_type": "code",
   "execution_count": 8,
   "id": "f55199f5",
   "metadata": {},
   "outputs": [],
   "source": [
    "t1.start()"
   ]
  },
  {
   "cell_type": "code",
   "execution_count": 9,
   "id": "6be1237c",
   "metadata": {},
   "outputs": [],
   "source": [
    "class Det:\n",
    "    def __init__(self, b, conf, classid):\n",
    "        self.box_ = b\n",
    "        self.confidence_ = conf\n",
    "        self.classID_ = classid"
   ]
  },
  {
   "cell_type": "code",
   "execution_count": 10,
   "id": "43852525",
   "metadata": {},
   "outputs": [],
   "source": [
    "blue = [255,0,0]\n",
    "red = [0,0,255]\n",
    "white = [255,255,255]"
   ]
  },
  {
   "cell_type": "code",
   "execution_count": 11,
   "id": "d2e63870",
   "metadata": {},
   "outputs": [],
   "source": [
    "yolo = 'yolo_tiny'\n",
    "confidence_thresh = 0.6\n",
    "threshold = 0.3"
   ]
  },
  {
   "cell_type": "code",
   "execution_count": 12,
   "id": "3e9741c8",
   "metadata": {},
   "outputs": [],
   "source": [
    "labelsPath = yolo+'\\\\yolov3.txt'\n",
    "LABELS = open(labelsPath).read().strip().split(\"\\n\")"
   ]
  },
  {
   "cell_type": "code",
   "execution_count": 13,
   "id": "3c970e95",
   "metadata": {},
   "outputs": [],
   "source": [
    "np.random.seed(42)\n",
    "COLORS = np.random.randint(0, 255, size=(len(LABELS), 3),dtype=\"uint8\")"
   ]
  },
  {
   "cell_type": "code",
   "execution_count": 14,
   "id": "f4ce7c7e",
   "metadata": {},
   "outputs": [],
   "source": [
    "configPath = os.path.sep.join([yolo, \"yolov4.cfg\"])\n",
    "weightsPath = os.path.sep.join([yolo, \"yolov4.weights\"])\n"
   ]
  },
  {
   "cell_type": "code",
   "execution_count": 15,
   "id": "336cfdf3",
   "metadata": {},
   "outputs": [],
   "source": [
    "# print(LABELS)\n",
    "# print(len(LABELS))"
   ]
  },
  {
   "cell_type": "code",
   "execution_count": 16,
   "id": "6a42a3fa",
   "metadata": {},
   "outputs": [],
   "source": [
    "net = cv2.dnn.readNetFromDarknet(configPath, weightsPath)"
   ]
  },
  {
   "cell_type": "code",
   "execution_count": 17,
   "id": "26299e5a",
   "metadata": {},
   "outputs": [
    {
     "data": {
      "text/plain": [
       "array([327, 353, 379])"
      ]
     },
     "execution_count": 17,
     "metadata": {},
     "output_type": "execute_result"
    }
   ],
   "source": [
    "net.getUnconnectedOutLayers()"
   ]
  },
  {
   "cell_type": "code",
   "execution_count": 18,
   "id": "25bb0b9f",
   "metadata": {},
   "outputs": [],
   "source": [
    "ln = net.getLayerNames()\n",
    "ln = [ln[i - 1] for i in net.getUnconnectedOutLayers()]"
   ]
  },
  {
   "cell_type": "code",
   "execution_count": 19,
   "id": "b33e20fe",
   "metadata": {},
   "outputs": [],
   "source": [
    "#initialization\n",
    "start = 0\n",
    "end = 0\n",
    "fps = 0"
   ]
  },
  {
   "cell_type": "code",
   "execution_count": 20,
   "id": "35ce7187",
   "metadata": {},
   "outputs": [],
   "source": [
    "#cap = cv2.VideoCapture(0)"
   ]
  },
  {
   "cell_type": "code",
   "execution_count": 21,
   "id": "26cb77a0",
   "metadata": {},
   "outputs": [],
   "source": [
    "cap = cv2.VideoCapture(\"multiple_obj.mp4\")"
   ]
  },
  {
   "cell_type": "code",
   "execution_count": 22,
   "id": "81c2cfd0",
   "metadata": {},
   "outputs": [],
   "source": [
    "(W, H) = (None, None)"
   ]
  },
  {
   "cell_type": "code",
   "execution_count": 23,
   "id": "a7c4d0dd",
   "metadata": {
    "scrolled": true
   },
   "outputs": [],
   "source": [
    "while True:\n",
    "    capture,frame = cap.read()\n",
    "    #frame = cv2.rotate(frame, cv2.ROTATE_180)\n",
    "    if capture:\n",
    "        \n",
    "        if end - start != 0:\n",
    "            fps = 1/(end - start)\n",
    "        start = time.time()\n",
    "        \n",
    "        if W is None or H is None:\n",
    "            (H, W) = frame.shape[:2]\n",
    "        \n",
    "        blob = cv2.dnn.blobFromImage(frame, 1 / 255.0, (416, 416), swapRB=True, crop=False)\n",
    "        net.setInput(blob)\n",
    "        layerOutputs = net.forward(ln)\n",
    "        \n",
    "        # initialize our lists of detected bounding boxes, confidences, and class IDs, respectively\n",
    "        boxes = []\n",
    "        confidences = []\n",
    "        classIDs = []\n",
    "        dets = []\n",
    "        \n",
    "        # loop over each of the layer outputs\n",
    "        for output in layerOutputs:\n",
    "            # loop over each of the detections\n",
    "            for detection in output:\n",
    "                # extract the class ID and confidence (i.e., probability) of the current object detection\n",
    "                scores = detection[5:]\n",
    "                classID = np.argmax(scores)\n",
    "                confidence = scores[classID]\n",
    "                # filter out weak predictions by ensuring the detected probability is greater than the minimum probability\n",
    "                if confidence > confidence_thresh:\n",
    "                    # scale the bounding box coordinates back relative to\n",
    "                    # the size of the image, keeping in mind that YOLO\n",
    "                    # actually returns the center (x, y)-coordinates of\n",
    "                    # the bounding box followed by the boxes' width and\n",
    "                    # height\n",
    "                    box = detection[0:4] * np.array([W, H, W, H])\n",
    "                    (centerX, centerY, width, height) = box.astype(\"int\")\n",
    "                    # use the center (x, y)-coordinates to derive the top and and left corner of the bounding box\n",
    "                    x = int(centerX - (width / 2))\n",
    "                    y = int(centerY - (height / 2))\n",
    "                    # update our list of bounding box coordinates, confidences, and class IDs\n",
    "                    #boxes.append([x, y, int(width), int(height)])\n",
    "                    #boxes.sort(reverse=True, key = lambda a:a[-1]*a[-2])\n",
    "                    #confidences.append(float(confidence))\n",
    "                    #classIDs.append(classID)\n",
    "                    new_det = Det([x, y, int(width), int(height)], confidence, classID) \n",
    "                    dets.append(new_det)\n",
    "                    dets.sort(reverse=True, key = lambda a:a.box_[-1]*a.box_[-2])\n",
    "                    for det in dets:\n",
    "                        boxes.append(det.box_)\n",
    "                        confidences.append(float(det.confidence_))\n",
    "                        classIDs.append(det.classID_)\n",
    "                    \n",
    "        # apply non-maxima suppression to suppress weak, overlapping bounding boxes\n",
    "        idxs = cv2.dnn.NMSBoxes(boxes, confidences, confidence_thresh, threshold)\n",
    "        # ensure at least one detection exists\n",
    "        if len(idxs) > 0:\n",
    "            # loop over the indexes we are keeping\n",
    "            for i in idxs.flatten():\n",
    "                # extract the bounding box coordinates\n",
    "                (x, y) = (boxes[i][0], boxes[i][1])\n",
    "                (w, h) = (boxes[i][2], boxes[i][3])\n",
    "                # draw a bounding box rectangle and label on the frame\n",
    "                color = [int(c) for c in COLORS[classIDs[i]]]\n",
    "                cv2.rectangle(frame, (x, y), (x + w, y + h), color, 2)\n",
    "                text = \"{}: {:.4f}\".format(LABELS[classIDs[i]],\n",
    "                    confidences[i])\n",
    "                cv2.putText(frame, text, (x, y - 5),\n",
    "                    cv2.FONT_HERSHEY_SIMPLEX, 0.5, color, 2)\n",
    "                cv2.putText(frame, \"%.2f fps\" % fps, (20,H//2), cv2.FONT_HERSHEY_SIMPLEX, 0.5, white, 2)\n",
    "                if x + w/2 <= W/2:\n",
    "                    cv2.putText(frame, \"Turn Right\", (W-100, 20),cv2.FONT_HERSHEY_SIMPLEX, 0.5, red, 2)\n",
    "                    side = 1\n",
    "                else:\n",
    "                    cv2.putText(frame, \"Turn Left\", (20, 20),cv2.FONT_HERSHEY_SIMPLEX, 0.5, red, 2)\n",
    "                    side = 2\n",
    "                break # to only have bounding box corresponding to maximum confidence\n",
    "        \n",
    "        cv2.imshow(\"frame\",frame)\n",
    "        end = time.time()\n",
    "        \n",
    "        #to exit while loop when esc is pressed\n",
    "        k = cv2.waitKey(5) & 0xFF\n",
    "        if k == 27:\n",
    "            break\n",
    "    \n",
    "    else:\n",
    "        break"
   ]
  },
  {
   "cell_type": "code",
   "execution_count": 24,
   "id": "b6bfc85d",
   "metadata": {},
   "outputs": [],
   "source": [
    "cap.release()\n",
    "cv2.destroyAllWindows()"
   ]
  },
  {
   "cell_type": "code",
   "execution_count": 25,
   "id": "71f6d7e7",
   "metadata": {},
   "outputs": [],
   "source": [
    "As = 1"
   ]
  },
  {
   "cell_type": "code",
   "execution_count": null,
   "id": "a9bfef1e",
   "metadata": {},
   "outputs": [],
   "source": []
  },
  {
   "cell_type": "code",
   "execution_count": null,
   "id": "b0aa328a",
   "metadata": {},
   "outputs": [],
   "source": []
  }
 ],
 "metadata": {
  "kernelspec": {
   "display_name": "Python 3 (ipykernel)",
   "language": "python",
   "name": "python3"
  },
  "language_info": {
   "codemirror_mode": {
    "name": "ipython",
    "version": 3
   },
   "file_extension": ".py",
   "mimetype": "text/x-python",
   "name": "python",
   "nbconvert_exporter": "python",
   "pygments_lexer": "ipython3",
   "version": "3.9.13"
  }
 },
 "nbformat": 4,
 "nbformat_minor": 5
}
